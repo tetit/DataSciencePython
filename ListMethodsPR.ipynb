{
 "cells": [
  {
   "cell_type": "code",
   "execution_count": 17,
   "id": "2c052079-c7f7-4743-8614-6774c037c0be",
   "metadata": {},
   "outputs": [
    {
     "name": "stdout",
     "output_type": "stream",
     "text": [
      "[1, 2, 3, 4, 3, 3, 3, 'a', 'b', 'r', 'a', 'a', 100]\n",
      "[]\n",
      "[1, 2, 3, 4, 3, 3, 3, 'a', 'b', 'r', 'a', 'a']\n",
      "4 3\n"
     ]
    }
   ],
   "source": [
    "'''\n",
    "List Methods\n",
    "Python has a set of built-in methods that you can use on lists.\n",
    "\n",
    "Method\tDescription\n",
    "append()\tAdds an element at the end of the list\n",
    "clear()\tRemoves all the elements from the list\n",
    "copy()\tReturns a copy of the list\n",
    "count()\tReturns the number of elements with the specified value\n",
    "extend()\tAdd the elements of a list (or any iterable), to the end of the current list\n",
    "index()\tReturns the index of the first element with the specified value\n",
    "insert()\tAdds an element at the specified position\n",
    "pop()\tRemoves the element at the specified position\n",
    "remove()\tRemoves the item with the specified value\n",
    "reverse()\tReverses the order of the list\n",
    "sort()\tSorts the list\n",
    "'''\n",
    "\n",
    "list1 = [1, 2, 3, 4, 3, 3, 3]\n",
    "list2 = ['a', 'b', 'r', 'a', 'a']\n",
    "\n",
    "list3 = [x for x in list1] + [y for y in list2]\n",
    "list3.append(100)\n",
    "print(list3)\n",
    "\n",
    "list3.clear()\n",
    "print(list3)\n",
    "\n",
    "list3=list1.copy() + list2.copy()\n",
    "print(list3)\n",
    "print(list3.count(3) , list3.count('a'))\n",
    "\n"
   ]
  },
  {
   "cell_type": "code",
   "execution_count": 34,
   "id": "c9bf1d41-7943-477f-bec9-cb7dc80b3ce9",
   "metadata": {},
   "outputs": [
    {
     "name": "stdout",
     "output_type": "stream",
     "text": [
      "['a', 'b', 'r', 'a', 'a', 1, 2, 3, 4, 3, 3, 3, 'jadfa', 'dkjnncas', 100, 4]\n",
      "0 7\n"
     ]
    }
   ],
   "source": [
    "'''\n",
    "list.extend(iterable)\n",
    "Parameter Values\n",
    "Parameter\tDescription\n",
    "iterable\tRequired. Any iterable (list, set, tuple, etc.)\n",
    "'''\n",
    "list1 = [1, 2, 3, 4, 3, 3, 3]\n",
    "list2 = ['a', 'b', 'r', 'a', 'a']\n",
    "list2.extend(list1)\n",
    "list2.extend(('jadfa', 'dkjnncas'))\n",
    "list2.extend({100:'dk', 4:'ogo'})\n",
    "print(list2)\n",
    "print(list2.index('a'), list2.index(3))"
   ]
  },
  {
   "cell_type": "code",
   "execution_count": 42,
   "id": "662e3719-c411-4a89-b5ff-f5534a9ea6fc",
   "metadata": {},
   "outputs": [
    {
     "name": "stdout",
     "output_type": "stream",
     "text": [
      "['insert', 1, 2, 3, 4, 3, 3, 3]\n",
      "[1, 2, 3, 4, 3, 3, 3]\n",
      "[1, 2, 4, 3, 3, 3]\n",
      "[3, 3, 3, 4, 2, 1]\n",
      "[1, 2, 3, 3, 3, 4]\n"
     ]
    }
   ],
   "source": [
    "#list.insert(pos, elmnt)\n",
    "list1 = [1, 2, 3, 4, 3, 3, 3]\n",
    "list1.insert(0, 'insert')\n",
    "print(list1)\n",
    "list1.pop(0)\n",
    "print(list1)\n",
    "#The remove() method removes the first occurrence of the element with the specified value.\n",
    "#list.remove(elmnt)\n",
    "list1.remove(3)\n",
    "print(list1)\n",
    "list1.reverse()\n",
    "print(list1)\n",
    "list1.sort()\n",
    "print(list1)"
   ]
  }
 ],
 "metadata": {
  "kernelspec": {
   "display_name": "Python 3 (ipykernel)",
   "language": "python",
   "name": "python3"
  },
  "language_info": {
   "codemirror_mode": {
    "name": "ipython",
    "version": 3
   },
   "file_extension": ".py",
   "mimetype": "text/x-python",
   "name": "python",
   "nbconvert_exporter": "python",
   "pygments_lexer": "ipython3",
   "version": "3.8.17"
  }
 },
 "nbformat": 4,
 "nbformat_minor": 5
}
