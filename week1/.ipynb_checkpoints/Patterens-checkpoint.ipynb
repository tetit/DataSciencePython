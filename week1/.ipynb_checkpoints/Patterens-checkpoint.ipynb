{
 "cells": [
  {
   "cell_type": "code",
   "execution_count": null,
   "id": "9f96ca13-8802-48ec-b52b-5801d68eb192",
   "metadata": {},
   "outputs": [],
   "source": [
    "Metacharacters\n",
    "Metacharacters are characters with a special meaning:\n",
    "\n",
    "Character\tDescription\tExample\tTry it\n",
    "[]\tA set of characters\t\"[a-m]\"\t\n",
    "\\\tSignals a special sequence (can also be used to escape special characters)\t\"\\d\"\t\n",
    ".\tAny character (except newline character)\t\"he..o\"\t\n",
    "^\tStarts with\t\"^hello\"\t\n",
    "$\tEnds with\t\"planet$\"\t\n",
    "*\tZero or more occurrences\t\"he.*o\"\t\n",
    "+\tOne or more occurrences\t\"he.+o\"\t\n",
    "?\tZero or one occurrences\t\"he.?o\"\t\n",
    "{}\tExactly the specified number of occurrences\t\"he.{2}o\"\t\n",
    "|\tEither or\t\"falls|stays\"\t\n",
    "()\tCapture and group\t \t \n",
    "Special Sequences\n",
    "A special sequence is a \\ followed by one of the characters in the list below, and has a special meaning:\n",
    "\n",
    "Character\tDescription\tExample\tTry it\n",
    "\\A\tReturns a match if the specified characters are at the beginning of the string\t\"\\AThe\"\t\n",
    "\\b\tReturns a match where the specified characters are at the beginning or at the end of a word\n",
    "(the \"r\" in the beginning is making sure that the string is being treated as a \"raw string\")\tr\"\\bain\"\n",
    "r\"ain\\b\"\t\n",
    "\\B\tReturns a match where the specified characters are present, but NOT at the beginning (or at the end) of a word\n",
    "(the \"r\" in the beginning is making sure that the string is being treated as a \"raw string\")\tr\"\\Bain\"\n",
    "r\"ain\\B\"\t\n",
    "\\d\tReturns a match where the string contains digits (numbers from 0-9)\t\"\\d\"\t\n",
    "\\D\tReturns a match where the string DOES NOT contain digits\t\"\\D\"\t\n",
    "\\s\tReturns a match where the string contains a white space character\t\"\\s\"\t\n",
    "\\S\tReturns a match where the string DOES NOT contain a white space character\t\"\\S\"\t\n",
    "\\w\tReturns a match where the string contains any word characters (characters from a to Z, digits from 0-9, and the underscore _ character)\t\"\\w\"\t\n",
    "\\W\tReturns a match where the string DOES NOT contain any word characters\t\"\\W\"\t\n",
    "\\Z\tReturns a match if the specified characters are at the end of the string\t\"Spain\\Z\"\t\n",
    "Sets\n",
    "A set is a set of characters inside a pair of square brackets [] with a special meaning:\n",
    "\n",
    "Set\tDescription\tTry it\n",
    "[arn]\tReturns a match where one of the specified characters (a, r, or n) is present\t\n",
    "[a-n]\tReturns a match for any lower case character, alphabetically between a and n\t\n",
    "[^arn]\tReturns a match for any character EXCEPT a, r, and n\t\n",
    "[0123]\tReturns a match where any of the specified digits (0, 1, 2, or 3) are present\t\n",
    "[0-9]\tReturns a match for any digit between 0 and 9\t\n",
    "[0-5][0-9]\tReturns a match for any two-digit numbers from 00 and 59\t\n",
    "[a-zA-Z]\tReturns a match for any character alphabetically between a and z, lower case OR upper case\t\n",
    "[+]\tIn sets, +, *, ., |, (), $,{} has no special meaning, so [+] means: return a match for any + character in the string"
   ]
  },
  {
   "cell_type": "code",
   "execution_count": null,
   "id": "845badd4-2175-42dd-9176-be24303640d4",
   "metadata": {},
   "outputs": [],
   "source": []
  },
  {
   "cell_type": "code",
   "execution_count": null,
   "id": "f85b0348-7120-4ee8-8fe1-e0e005e4f441",
   "metadata": {},
   "outputs": [],
   "source": []
  },
  {
   "cell_type": "code",
   "execution_count": 82,
   "id": "4047bff4-9f1a-4f91-aac5-0ec1b49aa0f1",
   "metadata": {},
   "outputs": [
    {
     "name": "stdout",
     "output_type": "stream",
     "text": [
      "['child']\n",
      "['Overview  [edit]', ' Overview  [edit]']\n",
      "[('Overview  ', '[edit]'), (' Overview  ', '[edit]')]\n"
     ]
    }
   ],
   "source": [
    "import re\n",
    "str = \"Overview  [edit] FERPA gives parents access to their child's education records, an opportunity to seek to have the records amended, and some control over the disclosure of information from the records. With several exceptions, schools must have a student's consent prior to the disclosure of education records after that student is 18 years old. The law applies onltidey to educational agencies and institutions that receive deit funds under a program administered by the U.S.edit Department of Education. Overview  [edit] FERPA gives \"\n",
    "print(re.findall(\"[\\w]*i.d\",str))\n",
    "print(re.findall(\"[\\w\\s]*\\[edit\\]\",str))\n",
    "print(re.findall(\"([\\w ]*)(\\[edit\\])\",str))"
   ]
  },
  {
   "cell_type": "code",
   "execution_count": 93,
   "id": "a3fcda7d-1b12-4220-81f8-b5fa579f4298",
   "metadata": {},
   "outputs": [
    {
     "name": "stdout",
     "output_type": "stream",
     "text": [
      "['t ', 'l ', 'e ', '9 ', 's ', 't ', 'e ', 'l ', 'e ', '9 ', 't ', 'o ', 'e ', 'l ', 'e ', '9 ']\n",
      "[('i', 'll'), ('o', 'll'), ('i', 'll'), ('o', 'll'), ('i', 'll'), ('o', 'll')]\n",
      "[('That will be 59 dollars That more will be 59 do', 'll'), ('That no more will be 59 do', 'll')]\n"
     ]
    }
   ],
   "source": [
    "txt = \"That will be 59 dollars \" + \"That more will be 59 dollars;\" +\"That no more will be 59 dollars.\"\n",
    "t = re.findall(\"[\\w]\\s\",txt)\n",
    "x = re.findall(\"([\\w]\\s*)(ll)\", txt)\n",
    "y = re.findall(\"([\\w\\s]*)(ll)\", txt)\n",
    "print(t)\n",
    "print(x)\n",
    "print(y)"
   ]
  },
  {
   "cell_type": "code",
   "execution_count": 100,
   "id": "ccf61d96-eec8-4a10-89da-f1446e9fb90f",
   "metadata": {},
   "outputs": [
    {
     "name": "stdout",
     "output_type": "stream",
     "text": [
      "<re.Match object; span=(12, 16), match=' 59 '>\n",
      "{'prise': ' 59 '}\n",
      "<re.Match object; span=(43, 47), match=' 79 '>\n",
      "{'prise': ' 79 '}\n",
      "<re.Match object; span=(76, 81), match=' 100 '>\n",
      "{'prise': ' 100 '}\n"
     ]
    }
   ],
   "source": [
    "txt = \"That will be 59 dollars ) That more will be 79 dollars; That no more will be 100 dollars.\"\n",
    "for item in re.finditer(\"(?P<prise>[\\d ]+)(?=dollars)\",txt):\n",
    "    # What this regex says is match two groups, the first will be named and called title, will have any amount\n",
    "    # of whitespace or regular word characters, the second will be the characters [edit] but we don't actually\n",
    "    # want this edit put in our output match objects\n",
    "    print(item)\n",
    "    print(item.groupdict('prise'))"
   ]
  },
  {
   "cell_type": "code",
   "execution_count": 107,
   "id": "935cb8ca-7e8e-4f4c-97fb-c431bef679c4",
   "metadata": {},
   "outputs": [
    {
     "name": "stdout",
     "output_type": "stream",
     "text": [
      "<re.Match object; span=(13, 24), match='59 dollars '>\n",
      "59\n",
      " dollars \n",
      "{'prise': '59', 'currency': ' dollars '}\n",
      "<re.Match object; span=(44, 50), match='79 grn'>\n",
      "79\n",
      " grn\n",
      "{'prise': '79', 'currency': ' grn'}\n",
      "<re.Match object; span=(73, 80), match='100 pln'>\n",
      "100\n",
      " pln\n",
      "{'prise': '100', 'currency': ' pln'}\n"
     ]
    }
   ],
   "source": [
    "txt = \"That will be 59 dollars ) That more will be 79 grn; That no more will be 100 pln.\"\n",
    "for item in re.finditer(\"(?P<prise>[\\d]+)(?P<currency>[\\s\\w]*)\",txt):\n",
    "    print(item)\n",
    "    print(item.groupdict()['prise'])\n",
    "    print(item.groupdict()['currency'])\n",
    "    print(item.groupdict())"
   ]
  },
  {
   "cell_type": "code",
   "execution_count": 117,
   "id": "eb26e58f-72a7-4e57-a513-6b4754f40b92",
   "metadata": {},
   "outputs": [
    {
     "name": "stdout",
     "output_type": "stream",
     "text": [
      "<re.Match object; span=(13, 15), match='59'>\n",
      "{}\n",
      "<re.Match object; span=(44, 46), match='79'>\n",
      "{}\n",
      "<re.Match object; span=(73, 76), match='100'>\n",
      "{}\n"
     ]
    }
   ],
   "source": [
    "txt = \"That will be 59 dollars ) That more will be 79 grn; That no more will be 100 pln.\"\n",
    "for item in re.finditer(\"([\\d]+)(?=[a-zA-Z]*)\",txt):\n",
    "    print(item)\n",
    "    print(item.groupdict())"
   ]
  },
  {
   "cell_type": "code",
   "execution_count": 133,
   "id": "64a495e2-40b8-4608-a949-a93f60f6f9e3",
   "metadata": {},
   "outputs": [
    {
     "name": "stdout",
     "output_type": "stream",
     "text": [
      "[('Dhammakaya Open University ', '– located in ', 'Azusa', ', ', 'California'), ('Dharmakirti College ', '– located in ', 'Tucson', ', ', 'Arizona'), ('Dharma Realm Buddhist University ', '– located in ', 'Ukiah', ', ', 'California'), ('Ewam Buddhist Institute ', '– located in ', 'Arlee', ', ', 'Montana'), ('Institute of Buddhist Studies ', '– located in ', 'Berkeley', ', ', 'California'), ('Maitripa College ', '– located in ', 'Portland', ', ', 'Oregon'), ('University of the West ', '– located in ', 'Rosemead', ', ', 'California'), ('Won Institute of Graduate Studies ', '– located in ', 'Glenside', ', ', 'Pennsylvania')]\n"
     ]
    }
   ],
   "source": [
    "# Let's look at some more wikipedia data. Here's some data on universities in the US which are buddhist-based\n",
    "with open(\"datasets/buddhist.txt\",\"r\") as file:\n",
    "    # we'll read that into a variable called wiki\n",
    "    wiki=file.read()\n",
    "# and lets print that variable out to the screen\n",
    "ps = \"(?P<title>.*)(–\\slocated\\sin\\ )(?P<city>\\w*)(,\\ )(?P<state>\\w*)\" \n",
    "print(re.findall(ps, wiki))"
   ]
  },
  {
   "cell_type": "code",
   "execution_count": null,
   "id": "9b407137-17bf-4080-aca0-1398135f24f4",
   "metadata": {},
   "outputs": [],
   "source": [
    "pattern=\"\"\"\n",
    "(?P<title>.*)        #the university title\n",
    "(–\\ located\\ in\\ )   #an indicator of the location\n",
    "(?P<city>\\w*)        #city the university is in\n",
    "(,\\ )                #separator for the state\n",
    "(?P<state>\\w*)       #the state the city is located in\"\"\"\n",
    "\n",
    "# Now when we call finditer() we just pass the re.VERBOSE flag as the last parameter, this makes it much\n",
    "# easier to understand large regexes!\n",
    "for item in re.finditer(pattern,wiki,re.VERBOSE):\n",
    "    # We can get the dictionary returned for the item with .groupdict()\n",
    "    print(item.groupdict())"
   ]
  },
  {
   "cell_type": "code",
   "execution_count": 185,
   "id": "5dbfb14a-4890-4c18-9a8e-27eac0c35aa7",
   "metadata": {},
   "outputs": [
    {
     "name": "stdout",
     "output_type": "stream",
     "text": [
      "['www.aBC.com', 'abc.com', 'ab_c.de8f.com']\n",
      "['child']\n"
     ]
    }
   ],
   "source": [
    "p = \"[\\w_]+\\.{1,1}[\\w_]+\\.{0,1}[\\w_]+\"\n",
    "#p= \"[a-zA-Z0-9_]+(\\. [a-zA-Z0-9_]+)+\"\n",
    "\n",
    "t = \"www.aBC.com, abc.com, ab_c.de8f.com, abc, abc..com\"\n",
    "print(re.findall(p, t))\n",
    "print(re.findall(\"[\\w]*i.d\",str))"
   ]
  },
  {
   "cell_type": "code",
   "execution_count": 213,
   "id": "839ae299-c402-4929-866d-5cc66a235ec7",
   "metadata": {},
   "outputs": [
    {
     "name": "stdout",
     "output_type": "stream",
     "text": [
      "[('9971-5-0210-0', ''), ('', '960-425-059-0')]\n",
      "[]\n",
      "['9971', '0210', '960-4', '059-0']\n"
     ]
    }
   ],
   "source": [
    "t = '9971-5-0210-0, 960-425-059-0'\n",
    "p = \"(\\d{4}\\-\\d\\-\\d{4}\\-\\d)|(\\d{3}\\-\\d{3}\\-\\d{3}\\-\\d)\" \n",
    "p1 = \"[\\d{4,4}|\\d{3,3}][\\-][\\d|\\d{3,3}][\\-][\\d{4,4}|\\d{3,3}][\\-][\\d]\" \n",
    "p2 = \"\\d{4,4}|\\d{3,3}\\-\\d|\\d{3,3}\\-\\d{4,4}|d{3,3}\"\n",
    "print(re.findall(p, t))\n",
    "print(re.findall(p1, t))\n",
    "print(re.findall(p2, t))"
   ]
  },
  {
   "cell_type": "code",
   "execution_count": 254,
   "id": "8919079b-5097-4d0e-94cb-f0b8944d02c3",
   "metadata": {},
   "outputs": [
    {
     "name": "stdout",
     "output_type": "stream",
     "text": [
      "['doi:10.', 'doi:20.1002/0470841559.', 'doi:30.', 'doi:40.']\n",
      "['doi:10.1038/nphys1170', 'doi:20.1002/0470841559.ch1']\n"
     ]
    }
   ],
   "source": [
    "t = \"doi:10.1038/nphys1170, doi:20.1002/0470841559.ch1, doi:30.1a02/0470841559.ch1, doi:40.1002, coi:opo\"\n",
    "p = \"doi:[\\d\\.\\/$]+[.]+\"\n",
    "p1 = \"doi:[\\d\\.]+\\/{1}[\\w.]+\"\n",
    "print(re.findall(p, t))\n",
    "print(re.findall(p1, t))"
   ]
  },
  {
   "cell_type": "code",
   "execution_count": 257,
   "id": "62b23640-364a-4b7d-8e83-a684b1c21a87",
   "metadata": {},
   "outputs": [
    {
     "name": "stdout",
     "output_type": "stream",
     "text": [
      "5\n",
      "['A', 'AA', 'AA', 'AA', 'A']\n"
     ]
    }
   ],
   "source": [
    "import re \n",
    "s = 'ACAABAACAAAB' \n",
    "result = re.findall('A{1,2}', s) \n",
    "L = len(result)\n",
    "print(L)\n",
    "print(result)"
   ]
  },
  {
   "cell_type": "code",
   "execution_count": 258,
   "id": "7df4f818-e2df-4316-a3e6-3669e3204e89",
   "metadata": {},
   "outputs": [
    {
     "name": "stdout",
     "output_type": "stream",
     "text": [
      "['google.com']\n",
      "['google.com', 'www.baidu.com']\n",
      "['']\n",
      "['google']\n"
     ]
    }
   ],
   "source": [
    "t = 'I refer to https://google.com and I never refer http://www.baidu.com if I have to search anything'\n",
    "p= '(?<=https:\\/\\/)([A-Za-z0-9.]*)'\n",
    "p1= '(?<=[https]:\\/\\/)([A-Za-z0-9.]*)'\n",
    "p2= '(?<=https:\\/\\/)([.]*)'\n",
    "p3 = '(?<=https:\\/\\/)([A-Za-z0-9]*)'\n",
    "print(re.findall(p, t))\n",
    "print(re.findall(p1, t))\n",
    "print(re.findall(p2, t))\n",
    "print(re.findall(p3, t))"
   ]
  },
  {
   "cell_type": "code",
   "execution_count": 262,
   "id": "81705887-864c-4a78-b8fe-6093baf816d3",
   "metadata": {},
   "outputs": [
    {
     "name": "stdout",
     "output_type": "stream",
     "text": [
      "True\n",
      "False\n",
      "False\n"
     ]
    }
   ],
   "source": [
    "import numpy as np\n",
    "import math\n",
    "a1 = np.random.rand(4) \n",
    "a2 = np.random.rand(4, 1) \n",
    "a3 = np.array([[1, 2, 3, 4]]) \n",
    "a4 = np.arange(1, 4, 1) \n",
    "a5 = np.linspace(1 ,4, 4)\n",
    "\n",
    "print(a5.shape == a1.shape)\n",
    "#print(a4.ndim() == 1)\n",
    "print(a3.shape == a4.shape)\n",
    "print(a1.shape == a2.shape)"
   ]
  },
  {
   "cell_type": "code",
   "execution_count": 328,
   "id": "dd748bf5-4fee-4f0b-9965-5fba1c1e80bb",
   "metadata": {},
   "outputs": [
    {
     "name": "stdout",
     "output_type": "stream",
     "text": [
      "979\n"
     ]
    }
   ],
   "source": [
    "with open(\"assets/logdata.txt\", \"r\") as file:\n",
    "    logdata = file.read()\n",
    "rez =[]\n",
    "pattern=\"\"\"\n",
    "    (?P<host>\\d+\\.\\d+\\.\\d+\\.\\d+)       \n",
    "    (\\s-\\s)  \n",
    "    (?P<user_name>[\\w-]+)\n",
    "    (\\s\\[)           \n",
    "    (?P<time>[\\w\\/\\:]+\\s-\\d{4}) \n",
    "    (\\]\\s\\\")\n",
    "    #(?P<request>[A-Z]+\\s[\\sA-Za-z\\/\\-\\%]+\\d\\.\\d)\n",
    "    #(?P<request>[A-Z]+\\s[\\w\\/\\-\\%]+\\sHTTP\\/\\d+\\.\\d+)\n",
    "    (?P<request>[A-Z]+\\s[\\w\\/\\-\\%\\d\\.\\s\\+]+)\n",
    "    \"\"\"\n",
    "for item in re.finditer(pattern,logdata,re.VERBOSE):\n",
    "        #print(item.groupdict())\n",
    "        rez.append(item.groupdict())\n",
    "        #print(rez)\n",
    "\n",
    "print(len(rez))\n",
    "     "
   ]
  }
 ],
 "metadata": {
  "kernelspec": {
   "display_name": "Python 3 (ipykernel)",
   "language": "python",
   "name": "python3"
  },
  "language_info": {
   "codemirror_mode": {
    "name": "ipython",
    "version": 3
   },
   "file_extension": ".py",
   "mimetype": "text/x-python",
   "name": "python",
   "nbconvert_exporter": "python",
   "pygments_lexer": "ipython3",
   "version": "3.8.17"
  }
 },
 "nbformat": 4,
 "nbformat_minor": 5
}
