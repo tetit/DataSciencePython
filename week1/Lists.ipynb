{
 "cells": [
  {
   "cell_type": "code",
   "execution_count": 1,
   "id": "7ea245f0-0dff-4748-8c1c-4e5273ffbd9c",
   "metadata": {},
   "outputs": [],
   "source": [
    "#LIST\n",
    "#Lists are used to store multiple items in a single variable.\n",
    "#Lists are created using square brackets"
   ]
  },
  {
   "cell_type": "code",
   "execution_count": 126,
   "id": "93ac0184-8e09-4884-8603-1e0154a8f815",
   "metadata": {},
   "outputs": [
    {
     "name": "stdout",
     "output_type": "stream",
     "text": [
      "<class 'list'>\n",
      "['kiwi', 'banana', 'cherry', 'apple', 'cherry']\n",
      "5\n",
      "kiwi banana ['cherry', 'apple'] cherry\n",
      "['kiwi', 'banana', 'cherry', 'apple', 'cherry', 'kiwi', 'banana', 'cherry', 'apple', 'cherry', 'kiwi', 'banana', 'cherry', 'apple', 'cherry']\n",
      "['kiwi', 'banana', 'cherry', 'apple', 'cherry', 'kiwi', 'banana', 'cherry', 'apple', 'cherry', 'kiwi', 'banana', 'cherry', 'apple', 'cherry', 'kiwi', 'banana', 'cherry', 'apple', 'cherry', 'kiwi', 'banana', 'cherry', 'apple', 'cherry', 'kiwi', 'banana', 'cherry', 'apple', 'cherry']\n"
     ]
    }
   ],
   "source": [
    "\n",
    "thislist = [\"apple\", \"banana\", \"cherry\", \"apple\", \"cherry\"]\n",
    "thislist[0] = 'kiwi'\n",
    "print(type(thislist))\n",
    "print(thislist[-5:])\n",
    "print(len(thislist))\n",
    "(rt, br, *hm, lk) = thislist\n",
    "print(rt, br, hm, lk)\n",
    "\n",
    "listM = thislist*3\n",
    "print(listM)\n",
    "listM = listM*2\n",
    "print(listM)"
   ]
  },
  {
   "cell_type": "code",
   "execution_count": 3,
   "id": "adf9cba3-4549-47f9-b3dd-b99b4b070c34",
   "metadata": {},
   "outputs": [
    {
     "name": "stdout",
     "output_type": "stream",
     "text": [
      "1\n",
      "1.34\n",
      "aa\n",
      "1z\n",
      "<class 'int'>\n",
      "<class 'float'>\n",
      "<class 'str'>\n",
      "<class 'str'>\n"
     ]
    }
   ],
   "source": [
    "newList = list((1, 1.34, 'aa', '1z'))\n",
    "newList\n",
    "\n",
    "for i in newList:\n",
    "    print(i)\n",
    "\n",
    "j=0\n",
    "while j!=len(newList):\n",
    "    print(type(newList[j]))\n",
    "    j+=1\n"
   ]
  },
  {
   "cell_type": "code",
   "execution_count": 14,
   "id": "e3444c26-96f0-4e61-bcf7-b7d2369f5db3",
   "metadata": {},
   "outputs": [
    {
     "name": "stdout",
     "output_type": "stream",
     "text": [
      "['banana', 'cherry']\n",
      "['apple', 'watermelon']\n"
     ]
    }
   ],
   "source": [
    "thislist = [\"apple\", \"banana\", \"cherry\"]\n",
    "print(thislist[1:3])\n",
    "thislist[1:3] = [\"watermelon\"]\n",
    "print(thislist)"
   ]
  },
  {
   "cell_type": "code",
   "execution_count": 1,
   "id": "1e865853-efff-4fbf-9789-62f2c337e903",
   "metadata": {},
   "outputs": [
    {
     "name": "stdout",
     "output_type": "stream",
     "text": [
      "['apple', 'banana', '1z', 'cherry']\n",
      "['apple', 'banana', '1z', 'cherry', 'orange']\n"
     ]
    },
    {
     "ename": "NameError",
     "evalue": "name 'thislist3' is not defined",
     "output_type": "error",
     "traceback": [
      "\u001b[1;31m---------------------------------------------------------------------------\u001b[0m",
      "\u001b[1;31mNameError\u001b[0m                                 Traceback (most recent call last)",
      "Cell \u001b[1;32mIn[1], line 6\u001b[0m\n\u001b[0;32m      4\u001b[0m thislist\u001b[38;5;241m.\u001b[39mappend(\u001b[38;5;124m\"\u001b[39m\u001b[38;5;124morange\u001b[39m\u001b[38;5;124m\"\u001b[39m)\n\u001b[0;32m      5\u001b[0m \u001b[38;5;28mprint\u001b[39m(thislist)\n\u001b[1;32m----> 6\u001b[0m \u001b[43mthislist3\u001b[49m\u001b[38;5;241m.\u001b[39mappend(\u001b[38;5;124m\"\u001b[39m\u001b[38;5;124morange\u001b[39m\u001b[38;5;124m\"\u001b[39m)\n\u001b[0;32m      7\u001b[0m \u001b[38;5;28mprint\u001b[39m(thislist3)\n\u001b[0;32m      8\u001b[0m tropical \u001b[38;5;241m=\u001b[39m [\u001b[38;5;124m\"\u001b[39m\u001b[38;5;124mmango\u001b[39m\u001b[38;5;124m\"\u001b[39m, \u001b[38;5;124m\"\u001b[39m\u001b[38;5;124mpineapple\u001b[39m\u001b[38;5;124m\"\u001b[39m, \u001b[38;5;124m\"\u001b[39m\u001b[38;5;124mpapaya\u001b[39m\u001b[38;5;124m\"\u001b[39m]\n",
      "\u001b[1;31mNameError\u001b[0m: name 'thislist3' is not defined"
     ]
    }
   ],
   "source": [
    "thislist = [\"apple\", \"banana\", \"cherry\"]\n",
    "thislist.insert(2, \"1z\")\n",
    "print(thislist)\n",
    "thislist.append(\"orange\")\n",
    "print(thislist)\n",
    "thislist3.append(\"orange\")\n",
    "print(thislist3)\n",
    "tropical = [\"mango\", \"pineapple\", \"papaya\"]\n",
    "thislist.extend(tropical)\n",
    "print(thislist)\n",
    "\n",
    "thistuple = (\"kiwi\", \"orange\")\n",
    "thislist.extend(thistuple)\n",
    "print(thislist)"
   ]
  },
  {
   "cell_type": "code",
   "execution_count": 32,
   "id": "dd956921-19d4-4581-9c2f-5aa9fc281946",
   "metadata": {},
   "outputs": [
    {
     "name": "stdout",
     "output_type": "stream",
     "text": [
      "['apple', 'cherry', 'banana', 'kiwi', 'banana', 'banana']\n",
      "['apple', 'cherry', 'kiwi', 'banana', 'banana']\n",
      "['apple', 'cherry', 'kiwi', 'banana']\n",
      "['apple', 'cherry', 'kiwi']\n",
      "['cherry', 'kiwi']\n",
      "[]\n"
     ]
    }
   ],
   "source": [
    "#the remove() method removes the first occurance:\n",
    "thislist = [\"apple\", \"banana\", \"cherry\", \"banana\", \"kiwi\", \"banana\", \"banana\"]\n",
    "thislist.remove(\"banana\")\n",
    "print(thislist)\n",
    "\n",
    "thislist.pop(2)\n",
    "print(thislist)\n",
    "\n",
    "thislist.pop()\n",
    "print(thislist)\n",
    "\n",
    "thislist.pop()\n",
    "print(thislist)\n",
    "\n",
    "del thislist[0]\n",
    "print(thislist)\n",
    "\n",
    "thislist.clear()\n",
    "print(thislist)\n",
    "\n",
    "#del thislist\n",
    "#print(thislist)"
   ]
  },
  {
   "cell_type": "code",
   "execution_count": 33,
   "id": "10226415-c9f1-47ae-b7b1-ba56ab33d071",
   "metadata": {},
   "outputs": [
    {
     "name": "stdout",
     "output_type": "stream",
     "text": [
      "apple\n",
      "banana\n",
      "cherry\n"
     ]
    }
   ],
   "source": [
    "thislist = [\"apple\", \"banana\", \"cherry\"]\n",
    "for i in range(len(thislist)):\n",
    "  print(thislist[i])"
   ]
  },
  {
   "cell_type": "code",
   "execution_count": 43,
   "id": "f091d002-db3c-4e32-b850-cffd3ef9253a",
   "metadata": {},
   "outputs": [
    {
     "name": "stdout",
     "output_type": "stream",
     "text": [
      "3\n",
      "9\n",
      "15\n",
      "2\n",
      "3\n"
     ]
    }
   ],
   "source": [
    "'''\n",
    "range(start, stop, step)\n",
    "Parameter Values\n",
    "Parameter\tDescription\n",
    "start\tOptional. An integer number specifying at which position to start. Default is 0\n",
    "stop\tRequired. An integer number specifying at which position to stop (not included).\n",
    "step\tOptional. An integer number specifying the incrementation. Default is 1\n",
    "'''\n",
    "\n",
    "x = range(3, 20, 6)\n",
    "for n in x:\n",
    "  print(n)\n",
    "for i in range(2,4):\n",
    "    print(i)"
   ]
  },
  {
   "cell_type": "code",
   "execution_count": 71,
   "id": "070ca5b7-c06b-4343-a33b-e5e06fad8db6",
   "metadata": {},
   "outputs": [
    {
     "name": "stdout",
     "output_type": "stream",
     "text": [
      "apple\n",
      "True\n",
      "add  apple\n",
      "banana\n",
      "True\n",
      "add  banana\n",
      "cherry\n",
      "False\n",
      "kiwi\n",
      "True\n",
      "add  kiwi\n",
      "mango\n",
      "True\n",
      "add  mango\n",
      "['apple', 'banana', 'kiwi', 'mango']\n"
     ]
    }
   ],
   "source": [
    "fruits = [\"apple\", \"banana\", \"cherry\", \"kiwi\", \"mango\"]\n",
    "newlist = []\n",
    "\n",
    "for x in fruits:\n",
    "    print(x)\n",
    "    print(bool((\"i\" in x) or ('a' in x)))\n",
    "    if (\"i\" in x) or ('a' in x):\n",
    "        newlist.append(x)\n",
    "        print('add  ' + x)\n",
    "      \n",
    "\n",
    "print(newlist)"
   ]
  },
  {
   "cell_type": "code",
   "execution_count": 77,
   "id": "c0f6479b-34f2-433d-8a88-a462e0be41a0",
   "metadata": {},
   "outputs": [
    {
     "name": "stdout",
     "output_type": "stream",
     "text": [
      "['apple', 'banana', 'mango']\n",
      "['apple', 'banana', 'cherry', 'kiwi', 'mango']\n",
      "[0, 1, 2, 3, 4, 5, 6, 7, 8, 9]\n",
      "[0, 1, 2, 3, 4, 6, 7, 8, 9]\n",
      "['apple', 'orange', 'cherry', 'kiwi', 'mango']\n",
      "['APPLE', 'BANANA', 'CHERRY', 'KIWI', 'MANGO']\n",
      "['orange', 'mango']\n"
     ]
    }
   ],
   "source": [
    "#newlist = [expression for item in iterable if condition == True]\n",
    "#The return value is a new list, leaving the old list unchanged.\n",
    "fruits = [\"apple\", \"banana\", \"cherry\", \"kiwi\", \"mango\"]\n",
    "newlist = []\n",
    "newlist = [x for x in fruits if \"a\" in x]\n",
    "newlist2 = [x for x in fruits]\n",
    "print(newlist)\n",
    "print(newlist2)\n",
    "newlist3 = [x for x in range(10)]\n",
    "newlist4 = [x for x in range(10) if x!= 5]\n",
    "print(newlist3)\n",
    "print(newlist4)\n",
    "newlist = [x if x != \"banana\" else \"orange\" for x in fruits]\n",
    "print(newlist)\n",
    "newlist = [x.upper() for x in fruits]\n",
    "print(newlist)\n",
    "newlist = [x if x != \"banana\" else \"orange\" for x in fruits if ('a' in x and 'n' in x)]\n",
    "print(newlist)"
   ]
  },
  {
   "cell_type": "code",
   "execution_count": 111,
   "id": "9a22ad67-5d9c-4206-b145-5a23dfbe139a",
   "metadata": {},
   "outputs": [
    {
     "name": "stdout",
     "output_type": "stream",
     "text": [
      "['banana', 'kiwi', 'mango', 'orange', 'pineapple']\n",
      "['banana', 'kiwi', 'mango', 'orange', 'pineapple', '100', '50', '65', '82', '23']\n",
      "['100', '23', '50', '65', '82', 'banana', 'kiwi', 'mango', 'orange', 'pineapple']\n"
     ]
    }
   ],
   "source": [
    "#list.sort(reverse=True|False, key=myFunc)\n",
    "#Parameter Values\n",
    "#Parameter\tDescription\n",
    "#reverse\tOptional. reverse=True will sort the list descending. Default is reverse=False\n",
    "#key\tOptional. A function to specify the sorting criteria(s)\n",
    "thislist = [\"orange\", \"mango\", \"kiwi\", \"pineapple\", \"banana\"]\n",
    "thislist.sort()\n",
    "print(thislist)\n",
    "thislist1 = [100, 50, 65, 82, 23]\n",
    "thislist.extend([str(x) for x in thislist1])\n",
    "print(thislist)\n",
    "thislist.sort()\n",
    "print(thislist)"
   ]
  },
  {
   "cell_type": "code",
   "execution_count": 86,
   "id": "b0ac3830-e500-4856-b4e1-8a5f71e46167",
   "metadata": {},
   "outputs": [
    {
     "name": "stdout",
     "output_type": "stream",
     "text": [
      "[100, 82, 65, 50, 23]\n"
     ]
    }
   ],
   "source": [
    "thislist = [100, 50, 65, 82, 23]\n",
    "thislist.sort(reverse = True)\n",
    "print(thislist)"
   ]
  },
  {
   "cell_type": "code",
   "execution_count": 101,
   "id": "802ce832-47c9-484c-a045-4780c2c1d71d",
   "metadata": {},
   "outputs": [
    {
     "name": "stdout",
     "output_type": "stream",
     "text": [
      "[0, 11, 23, 50, 65, 82, 100, 150]\n",
      "[50, 39, 27, 0, 15, 32, 50, 100]\n",
      "[50, 65, 23, 82, 11, 0, 100, 150]\n",
      "['VW', 'BMW', 'Ford', 'Mitsubishi']\n"
     ]
    }
   ],
   "source": [
    "def myfunc(n):\n",
    "  return abs(n - 50)\n",
    "\n",
    "thislist = [100, 50, 65, 82, 23, 11, 0, 150]\n",
    "thislist.sort()\n",
    "print(thislist)\n",
    "\n",
    "thislist1 = [abs(x-50) for x in thislist]\n",
    "print(thislist1)\n",
    "\n",
    "thislist.sort(key=myfunc)\n",
    "print(thislist)\n",
    "\n",
    "# A function that returns the length of the value:\n",
    "def myFunc(e):\n",
    "  return len(e)\n",
    "cars = ['Ford', 'Mitsubishi', 'BMW', 'VW']\n",
    "cars.sort(key=myFunc)\n",
    "print(cars)\n"
   ]
  },
  {
   "cell_type": "code",
   "execution_count": 105,
   "id": "a02e4d67-8b64-4542-b40e-e4520d08a5d5",
   "metadata": {},
   "outputs": [
    {
     "name": "stdout",
     "output_type": "stream",
     "text": [
      "[{'car': 'Mitsubishi', 'year': 2000}, {'car': 'Ford', 'year': 2005}, {'car': 'VW', 'year': 2011}, {'car': 'BMW', 'year': 2019}]\n"
     ]
    }
   ],
   "source": [
    "def myFunc(e):\n",
    "  return e['year']\n",
    "\n",
    "cars = [\n",
    "  {'car': 'Ford', 'year': 2005},\n",
    "  {'car': 'Mitsubishi', 'year': 2000},\n",
    "  {'car': 'BMW', 'year': 2019},\n",
    "  {'car': 'VW', 'year': 2011}\n",
    "]\n",
    "\n",
    "cars.sort(key=myFunc)\n",
    "\n",
    "print(cars)"
   ]
  },
  {
   "cell_type": "code",
   "execution_count": 106,
   "id": "9bc4ee88-7e53-4097-a42f-b6e9383ae152",
   "metadata": {},
   "outputs": [
    {
     "name": "stdout",
     "output_type": "stream",
     "text": [
      "['Kiwi', 'Orange', 'banana', 'cherry']\n"
     ]
    }
   ],
   "source": [
    "thislist = [\"banana\", \"Orange\", \"Kiwi\", \"cherry\"]\n",
    "thislist.sort()\n",
    "print(thislist)"
   ]
  },
  {
   "cell_type": "code",
   "execution_count": 107,
   "id": "d8e7b08a-c3d9-45af-8349-13db0e555df2",
   "metadata": {},
   "outputs": [
    {
     "name": "stdout",
     "output_type": "stream",
     "text": [
      "['banana', 'cherry', 'Kiwi', 'Orange']\n"
     ]
    }
   ],
   "source": [
    "thislist = [\"banana\", \"Orange\", \"Kiwi\", \"cherry\"]\n",
    "thislist.sort(key = str.lower)\n",
    "print(thislist)"
   ]
  },
  {
   "cell_type": "code",
   "execution_count": 110,
   "id": "0140eb7f-7a4b-4f15-a498-5e7b044fbab0",
   "metadata": {},
   "outputs": [
    {
     "name": "stdout",
     "output_type": "stream",
     "text": [
      "['cherry', 'Kiwi', 'Orange', 'banana']\n"
     ]
    }
   ],
   "source": [
    "thislist = [\"banana\", \"Orange\", \"Kiwi\", \"cherry\"]\n",
    "thislist.reverse()\n",
    "print(thislist)"
   ]
  },
  {
   "cell_type": "code",
   "execution_count": 112,
   "id": "4e363565-f86e-4c21-b370-64005f035434",
   "metadata": {},
   "outputs": [
    {
     "name": "stdout",
     "output_type": "stream",
     "text": [
      "['Mitsubishi', 'Ford', 'BMW', 'VW']\n"
     ]
    }
   ],
   "source": [
    "# A function that returns the length of the value:\n",
    "def myFunc(e):\n",
    "  return len(e)\n",
    "cars = ['Ford', 'Mitsubishi', 'BMW', 'VW']\n",
    "cars.sort(reverse=True, key=myFunc)\n",
    "print(cars)"
   ]
  },
  {
   "cell_type": "code",
   "execution_count": 115,
   "id": "0b7f7a01-899c-4da2-bbac-555558f87c19",
   "metadata": {},
   "outputs": [
    {
     "name": "stdout",
     "output_type": "stream",
     "text": [
      "['apple', 'banana', 'cherry']\n"
     ]
    }
   ],
   "source": [
    "thislist = [\"apple\", \"banana\", \"cherry\"]\n",
    "mylist = thislist.copy()\n",
    "print(mylist)"
   ]
  },
  {
   "cell_type": "code",
   "execution_count": 117,
   "id": "51dd97ad-8735-4c29-8798-93075e4fa2b1",
   "metadata": {},
   "outputs": [
    {
     "name": "stdout",
     "output_type": "stream",
     "text": [
      "['apple', 'banana', 'cherry']\n"
     ]
    }
   ],
   "source": [
    "thislist = [\"apple\", \"banana\", \"cherry\"]\n",
    "mylist = list(thislist)\n",
    "print(mylist)"
   ]
  },
  {
   "cell_type": "code",
   "execution_count": 120,
   "id": "bbd57586-5e6e-4099-90be-3e240b55c768",
   "metadata": {},
   "outputs": [
    {
     "name": "stdout",
     "output_type": "stream",
     "text": [
      "['a', 'b', 'c', 1, 2, 3]\n",
      "['a', 'b', 'c', 1, 2, 3]\n",
      "['a', 'b', 'c', 1, 2, 3]\n"
     ]
    }
   ],
   "source": [
    "list1 = [\"a\", \"b\", \"c\"]\n",
    "list2 = [1, 2, 3]\n",
    "list4 = []\n",
    "list5 = []\n",
    "list3 = list1 + list2\n",
    "print(list3)\n",
    "for x in list3:\n",
    "  list4.append(x)\n",
    "\n",
    "print(list4)\n",
    "\n",
    "list5.extend(list4)\n",
    "print(list5)\n"
   ]
  }
 ],
 "metadata": {
  "kernelspec": {
   "display_name": "Python 3 (ipykernel)",
   "language": "python",
   "name": "python3"
  },
  "language_info": {
   "codemirror_mode": {
    "name": "ipython",
    "version": 3
   },
   "file_extension": ".py",
   "mimetype": "text/x-python",
   "name": "python",
   "nbconvert_exporter": "python",
   "pygments_lexer": "ipython3",
   "version": "3.8.17"
  }
 },
 "nbformat": 4,
 "nbformat_minor": 5
}
