{
 "cells": [
  {
   "cell_type": "code",
   "execution_count": null,
   "id": "9f96ca13-8802-48ec-b52b-5801d68eb192",
   "metadata": {},
   "outputs": [],
   "source": [
    "Metacharacters\n",
    "Metacharacters are characters with a special meaning:\n",
    "\n",
    "Character\tDescription\tExample\tTry it\n",
    "[]\tA set of characters\t\"[a-m]\"\t\n",
    "\\\tSignals a special sequence (can also be used to escape special characters)\t\"\\d\"\t\n",
    ".\tAny character (except newline character)\t\"he..o\"\t\n",
    "^\tStarts with\t\"^hello\"\t\n",
    "$\tEnds with\t\"planet$\"\t\n",
    "*\tZero or more occurrences\t\"he.*o\"\t\n",
    "+\tOne or more occurrences\t\"he.+o\"\t\n",
    "?\tZero or one occurrences\t\"he.?o\"\t\n",
    "{}\tExactly the specified number of occurrences\t\"he.{2}o\"\t\n",
    "|\tEither or\t\"falls|stays\"\t\n",
    "()\tCapture and group\t \t \n",
    "Special Sequences\n",
    "A special sequence is a \\ followed by one of the characters in the list below, and has a special meaning:\n",
    "\n",
    "Character\tDescription\tExample\tTry it\n",
    "\\A\tReturns a match if the specified characters are at the beginning of the string\t\"\\AThe\"\t\n",
    "\\b\tReturns a match where the specified characters are at the beginning or at the end of a word\n",
    "(the \"r\" in the beginning is making sure that the string is being treated as a \"raw string\")\tr\"\\bain\"\n",
    "r\"ain\\b\"\t\n",
    "\\B\tReturns a match where the specified characters are present, but NOT at the beginning (or at the end) of a word\n",
    "(the \"r\" in the beginning is making sure that the string is being treated as a \"raw string\")\tr\"\\Bain\"\n",
    "r\"ain\\B\"\t\n",
    "\\d\tReturns a match where the string contains digits (numbers from 0-9)\t\"\\d\"\t\n",
    "\\D\tReturns a match where the string DOES NOT contain digits\t\"\\D\"\t\n",
    "\\s\tReturns a match where the string contains a white space character\t\"\\s\"\t\n",
    "\\S\tReturns a match where the string DOES NOT contain a white space character\t\"\\S\"\t\n",
    "\\w\tReturns a match where the string contains any word characters (characters from a to Z, digits from 0-9, and the underscore _ character)\t\"\\w\"\t\n",
    "\\W\tReturns a match where the string DOES NOT contain any word characters\t\"\\W\"\t\n",
    "\\Z\tReturns a match if the specified characters are at the end of the string\t\"Spain\\Z\"\t\n",
    "Sets\n",
    "A set is a set of characters inside a pair of square brackets [] with a special meaning:\n",
    "\n",
    "Set\tDescription\tTry it\n",
    "[arn]\tReturns a match where one of the specified characters (a, r, or n) is present\t\n",
    "[a-n]\tReturns a match for any lower case character, alphabetically between a and n\t\n",
    "[^arn]\tReturns a match for any character EXCEPT a, r, and n\t\n",
    "[0123]\tReturns a match where any of the specified digits (0, 1, 2, or 3) are present\t\n",
    "[0-9]\tReturns a match for any digit between 0 and 9\t\n",
    "[0-5][0-9]\tReturns a match for any two-digit numbers from 00 and 59\t\n",
    "[a-zA-Z]\tReturns a match for any character alphabetically between a and z, lower case OR upper case\t\n",
    "[+]\tIn sets, +, *, ., |, (), $,{} has no special meaning, so [+] means: return a match for any + character in the string"
   ]
  },
  {
   "cell_type": "code",
   "execution_count": 82,
   "id": "4047bff4-9f1a-4f91-aac5-0ec1b49aa0f1",
   "metadata": {},
   "outputs": [
    {
     "name": "stdout",
     "output_type": "stream",
     "text": [
      "['child']\n",
      "['Overview  [edit]', ' Overview  [edit]']\n",
      "[('Overview  ', '[edit]'), (' Overview  ', '[edit]')]\n"
     ]
    }
   ],
   "source": [
    "import re\n",
    "str = \"Overview  [edit] FERPA gives parents access to their child's education records, an opportunity to seek to have the records amended, and some control over the disclosure of information from the records. With several exceptions, schools must have a student's consent prior to the disclosure of education records after that student is 18 years old. The law applies onltidey to educational agencies and institutions that receive deit funds under a program administered by the U.S.edit Department of Education. Overview  [edit] FERPA gives \"\n",
    "print(re.findall(\"[\\w]*i.d\",str))\n",
    "print(re.findall(\"[\\w\\s]*\\[edit\\]\",str))\n",
    "print(re.findall(\"([\\w ]*)(\\[edit\\])\",str))"
   ]
  },
  {
   "cell_type": "code",
   "execution_count": 93,
   "id": "a3fcda7d-1b12-4220-81f8-b5fa579f4298",
   "metadata": {},
   "outputs": [
    {
     "name": "stdout",
     "output_type": "stream",
     "text": [
      "['t ', 'l ', 'e ', '9 ', 's ', 't ', 'e ', 'l ', 'e ', '9 ', 't ', 'o ', 'e ', 'l ', 'e ', '9 ']\n",
      "[('i', 'll'), ('o', 'll'), ('i', 'll'), ('o', 'll'), ('i', 'll'), ('o', 'll')]\n",
      "[('That will be 59 dollars That more will be 59 do', 'll'), ('That no more will be 59 do', 'll')]\n"
     ]
    }
   ],
   "source": [
    "txt = \"That will be 59 dollars \" + \"That more will be 59 dollars;\" +\"That no more will be 59 dollars.\"\n",
    "t = re.findall(\"[\\w]\\s\",txt)\n",
    "x = re.findall(\"([\\w]\\s*)(ll)\", txt)\n",
    "y = re.findall(\"([\\w\\s]*)(ll)\", txt)\n",
    "print(t)\n",
    "print(x)\n",
    "print(y)"
   ]
  },
  {
   "cell_type": "code",
   "execution_count": 100,
   "id": "ccf61d96-eec8-4a10-89da-f1446e9fb90f",
   "metadata": {},
   "outputs": [
    {
     "name": "stdout",
     "output_type": "stream",
     "text": [
      "<re.Match object; span=(12, 16), match=' 59 '>\n",
      "{'prise': ' 59 '}\n",
      "<re.Match object; span=(43, 47), match=' 79 '>\n",
      "{'prise': ' 79 '}\n",
      "<re.Match object; span=(76, 81), match=' 100 '>\n",
      "{'prise': ' 100 '}\n"
     ]
    }
   ],
   "source": [
    "txt = \"That will be 59 dollars ) That more will be 79 dollars; That no more will be 100 dollars.\"\n",
    "for item in re.finditer(\"(?P<prise>[\\d ]+)(?=dollars)\",txt):\n",
    "    # What this regex says is match two groups, the first will be named and called title, will have any amount\n",
    "    # of whitespace or regular word characters, the second will be the characters [edit] but we don't actually\n",
    "    # want this edit put in our output match objects\n",
    "    print(item)\n",
    "    print(item.groupdict('prise'))"
   ]
  },
  {
   "cell_type": "code",
   "execution_count": 107,
   "id": "935cb8ca-7e8e-4f4c-97fb-c431bef679c4",
   "metadata": {},
   "outputs": [
    {
     "name": "stdout",
     "output_type": "stream",
     "text": [
      "<re.Match object; span=(13, 24), match='59 dollars '>\n",
      "59\n",
      " dollars \n",
      "{'prise': '59', 'currency': ' dollars '}\n",
      "<re.Match object; span=(44, 50), match='79 grn'>\n",
      "79\n",
      " grn\n",
      "{'prise': '79', 'currency': ' grn'}\n",
      "<re.Match object; span=(73, 80), match='100 pln'>\n",
      "100\n",
      " pln\n",
      "{'prise': '100', 'currency': ' pln'}\n"
     ]
    }
   ],
   "source": [
    "txt = \"That will be 59 dollars ) That more will be 79 grn; That no more will be 100 pln.\"\n",
    "for item in re.finditer(\"(?P<prise>[\\d]+)(?P<currency>[\\s\\w]*)\",txt):\n",
    "    print(item)\n",
    "    print(item.groupdict()['prise'])\n",
    "    print(item.groupdict()['currency'])\n",
    "    print(item.groupdict())"
   ]
  },
  {
   "cell_type": "code",
   "execution_count": 117,
   "id": "eb26e58f-72a7-4e57-a513-6b4754f40b92",
   "metadata": {},
   "outputs": [
    {
     "name": "stdout",
     "output_type": "stream",
     "text": [
      "<re.Match object; span=(13, 15), match='59'>\n",
      "{}\n",
      "<re.Match object; span=(44, 46), match='79'>\n",
      "{}\n",
      "<re.Match object; span=(73, 76), match='100'>\n",
      "{}\n"
     ]
    }
   ],
   "source": [
    "txt = \"That will be 59 dollars ) That more will be 79 grn; That no more will be 100 pln.\"\n",
    "for item in re.finditer(\"([\\d]+)(?=[a-zA-Z]*)\",txt):\n",
    "    print(item)\n",
    "    print(item.groupdict())"
   ]
  },
  {
   "cell_type": "code",
   "execution_count": 133,
   "id": "64a495e2-40b8-4608-a949-a93f60f6f9e3",
   "metadata": {},
   "outputs": [
    {
     "name": "stdout",
     "output_type": "stream",
     "text": [
      "[('Dhammakaya Open University ', '– located in ', 'Azusa', ', ', 'California'), ('Dharmakirti College ', '– located in ', 'Tucson', ', ', 'Arizona'), ('Dharma Realm Buddhist University ', '– located in ', 'Ukiah', ', ', 'California'), ('Ewam Buddhist Institute ', '– located in ', 'Arlee', ', ', 'Montana'), ('Institute of Buddhist Studies ', '– located in ', 'Berkeley', ', ', 'California'), ('Maitripa College ', '– located in ', 'Portland', ', ', 'Oregon'), ('University of the West ', '– located in ', 'Rosemead', ', ', 'California'), ('Won Institute of Graduate Studies ', '– located in ', 'Glenside', ', ', 'Pennsylvania')]\n"
     ]
    }
   ],
   "source": [
    "# Let's look at some more wikipedia data. Here's some data on universities in the US which are buddhist-based\n",
    "with open(\"datasets/buddhist.txt\",\"r\") as file:\n",
    "    # we'll read that into a variable called wiki\n",
    "    wiki=file.read()\n",
    "# and lets print that variable out to the screen\n",
    "ps = \"(?P<title>.*)(–\\slocated\\sin\\ )(?P<city>\\w*)(,\\ )(?P<state>\\w*)\" \n",
    "print(re.findall(ps, wiki))"
   ]
  },
  {
   "cell_type": "code",
   "execution_count": null,
   "id": "9b407137-17bf-4080-aca0-1398135f24f4",
   "metadata": {},
   "outputs": [],
   "source": [
    "pattern=\"\"\"\n",
    "(?P<title>.*)        #the university title\n",
    "(–\\ located\\ in\\ )   #an indicator of the location\n",
    "(?P<city>\\w*)        #city the university is in\n",
    "(,\\ )                #separator for the state\n",
    "(?P<state>\\w*)       #the state the city is located in\"\"\"\n",
    "\n",
    "# Now when we call finditer() we just pass the re.VERBOSE flag as the last parameter, this makes it much\n",
    "# easier to understand large regexes!\n",
    "for item in re.finditer(pattern,wiki,re.VERBOSE):\n",
    "    # We can get the dictionary returned for the item with .groupdict()\n",
    "    print(item.groupdict())"
   ]
  }
 ],
 "metadata": {
  "kernelspec": {
   "display_name": "Python 3 (ipykernel)",
   "language": "python",
   "name": "python3"
  },
  "language_info": {
   "codemirror_mode": {
    "name": "ipython",
    "version": 3
   },
   "file_extension": ".py",
   "mimetype": "text/x-python",
   "name": "python",
   "nbconvert_exporter": "python",
   "pygments_lexer": "ipython3",
   "version": "3.8.17"
  }
 },
 "nbformat": 4,
 "nbformat_minor": 5
}
